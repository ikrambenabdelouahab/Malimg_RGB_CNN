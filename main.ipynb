{
 "cells": [
  {
   "cell_type": "markdown",
   "id": "4dfadc5f",
   "metadata": {},
   "source": [
    "# Malware Detection using RGB images and CNN"
   ]
  },
  {
   "cell_type": "markdown",
   "id": "0a074207",
   "metadata": {},
   "source": [
    "###  Imports"
   ]
  },
  {
   "cell_type": "code",
   "execution_count": 1,
   "id": "8bfb5e70",
   "metadata": {},
   "outputs": [],
   "source": [
    "import keras\n",
    "import numpy as np\n",
    "from sklearn.model_selection import train_test_split\n",
    "from tensorflow.keras import layers\n",
    "import tensorflow as tf\n",
    "from keras.preprocessing.image import ImageDataGenerator"
   ]
  },
  {
   "cell_type": "code",
   "execution_count": 2,
   "id": "ea2d0ae4",
   "metadata": {},
   "outputs": [],
   "source": [
    "# Path to DB\n",
    "path_root = \"data_rbg_120dpi\""
   ]
  },
  {
   "cell_type": "markdown",
   "id": "b1fbe810",
   "metadata": {},
   "source": [
    "### Load Data"
   ]
  },
  {
   "cell_type": "code",
   "execution_count": 3,
   "id": "d3a04112",
   "metadata": {},
   "outputs": [
    {
     "name": "stdout",
     "output_type": "stream",
     "text": [
      "benign = 0\n",
      "malicious = 1\n",
      "total categories: 2\n"
     ]
    }
   ],
   "source": [
    "from os import listdir\n",
    "from os.path import isfile, join, exists\n",
    "\n",
    "def get_filenames(path):\n",
    "    onlyfiles = [path+f for f in listdir(path) if isfile(join(path, f))]\n",
    "    return onlyfiles\n",
    "\n",
    "category_names=listdir(path_root) \n",
    "for i in range(len(category_names)):\n",
    "    print(category_names[i],'=',i)\n",
    "print('total categories:',len(category_names))"
   ]
  },
  {
   "cell_type": "code",
   "execution_count": 4,
   "id": "6f1ef333",
   "metadata": {
    "scrolled": true
   },
   "outputs": [
    {
     "name": "stdout",
     "output_type": "stream",
     "text": [
      "Found 272 images belonging to 2 classes.\n"
     ]
    }
   ],
   "source": [
    "batches = ImageDataGenerator().flow_from_directory(directory=path_root, target_size=(64,64), batch_size=300)\n",
    "imgs, labels = next(batches)\n",
    "# normalized by /255\n",
    "X_train, X_test, y_train, y_test = train_test_split(imgs/255.,labels, test_size=0.25)"
   ]
  },
  {
   "cell_type": "code",
   "execution_count": 5,
   "id": "9382a1d5",
   "metadata": {},
   "outputs": [
    {
     "name": "stdout",
     "output_type": "stream",
     "text": [
      "X_train.shape:(204, 64, 64, 3),  y_train.shape:(204, 2)\n",
      "X_test.shape:(68, 64, 64, 3),  y_test.shape:(68, 2)\n"
     ]
    }
   ],
   "source": [
    "print(f\"X_train.shape:{X_train.shape},  y_train.shape:{y_train.shape}\")\n",
    "print(f\"X_test.shape:{X_test.shape},  y_test.shape:{y_test.shape}\")"
   ]
  },
  {
   "cell_type": "markdown",
   "id": "b148bdb4",
   "metadata": {},
   "source": [
    "## CNN using Tensorflow Subclassing"
   ]
  },
  {
   "cell_type": "code",
   "execution_count": 6,
   "id": "409bcd30",
   "metadata": {},
   "outputs": [],
   "source": [
    "class CNNBlock(layers.Layer):\n",
    "    def __init__(self, out_channels, kernel_size=3):\n",
    "        super(CNNBlock, self).__init__()\n",
    "        self.conv = layers.Conv2D(out_channels, kernel_size, padding='same', activation='relu')\n",
    "        \n",
    "\n",
    "    def call(self, input_tensor, training=False):\n",
    "        x = self.conv(input_tensor)\n",
    "        x = tf.nn.relu(x)\n",
    "        return x"
   ]
  },
  {
   "cell_type": "code",
   "execution_count": 7,
   "id": "b2a0b1c0",
   "metadata": {},
   "outputs": [],
   "source": [
    "class ResBlock(layers.Layer):\n",
    "    def __init__(self, channels):\n",
    "        super(ResBlock, self).__init__()\n",
    "        self.cnn1 = CNNBlock(channels[0])\n",
    "        self.cnn2 = CNNBlock(channels[1])\n",
    "        self.cnn3 = CNNBlock(channels[2])\n",
    "        self.pooling = layers.MaxPooling2D()\n",
    "        self.identity_mapping = layers.Conv2D(channels[1], 3, padding='same')\n",
    "\n",
    "    def call(self, input_tensor, training=False):\n",
    "        x = self.cnn1(input_tensor, training=training)\n",
    "        x = self.cnn2(x, training=training)\n",
    "        x = self.cnn3(\n",
    "            x + self.identity_mapping(input_tensor), training=training,\n",
    "        )\n",
    "        return self.pooling(x)"
   ]
  },
  {
   "cell_type": "code",
   "execution_count": 8,
   "id": "b8401d93",
   "metadata": {},
   "outputs": [],
   "source": [
    "class ResNet_Like(keras.Model):\n",
    "    def __init__(self, num_classes=2):\n",
    "        super(ResNet_Like, self).__init__()\n",
    "        self.block1 = ResBlock([32, 32 , 64])\n",
    "        self.block2 = ResBlock([64, 64 , 128])\n",
    "        #self.block3 = ResBlock([128, 256 , 512])\n",
    "        self.pool = layers.MaxPooling2D()\n",
    "        self.flatten = layers.Flatten()\n",
    "        self.dense = layers.Dense(128, activation='relu')\n",
    "        self.classifier = layers.Dense(num_classes, activation='softmax')\n",
    "\n",
    "    def call(self, input_tensor, training=False):\n",
    "        x = self.block1(input_tensor, training=training)\n",
    "        x = self.block2(x, training=training)\n",
    "        #x = self.block3(x, training=training)\n",
    "        x = self.pool(x)\n",
    "        x = self.flatten(x)\n",
    "        x = self.dense(x)\n",
    "        return self.classifier(x)"
   ]
  },
  {
   "cell_type": "markdown",
   "id": "ba2a18e9",
   "metadata": {},
   "source": [
    "### Build, fit and evaluate model"
   ]
  },
  {
   "cell_type": "code",
   "execution_count": 25,
   "id": "3ea76559",
   "metadata": {},
   "outputs": [],
   "source": [
    "model = ResNet_Like(num_classes=2)"
   ]
  },
  {
   "cell_type": "code",
   "execution_count": 26,
   "id": "5f8b4e71",
   "metadata": {},
   "outputs": [],
   "source": [
    "model.compile(\n",
    "    optimizer = tf.keras.optimizers.Adamax(),\n",
    "    loss = keras.losses.BinaryCrossentropy(),\n",
    "    metrics = [\"accuracy\", tf.keras.metrics.Precision(), tf.keras.metrics.Recall(),\n",
    "             tf.keras.metrics.TruePositives(), tf.keras.metrics.TrueNegatives(),\n",
    "             tf.keras.metrics.FalsePositives(), tf.keras.metrics.FalseNegatives() ]\n",
    ")\n",
    "    "
   ]
  },
  {
   "cell_type": "code",
   "execution_count": 27,
   "id": "06e67dda",
   "metadata": {},
   "outputs": [
    {
     "name": "stdout",
     "output_type": "stream",
     "text": [
      "Epoch 1/50\n",
      "4/4 [==============================] - 2s 250ms/step - loss: 1.0163 - accuracy: 0.5637 - precision_3: 0.5637 - recall_3: 0.5637 - true_positives_3: 115.0000 - true_negatives_3: 115.0000 - false_positives_3: 89.0000 - false_negatives_3: 89.0000 - val_loss: 0.6640 - val_accuracy: 0.7059 - val_precision_3: 0.7059 - val_recall_3: 0.7059 - val_true_positives_3: 48.0000 - val_true_negatives_3: 48.0000 - val_false_positives_3: 20.0000 - val_false_negatives_3: 20.0000\n",
      "Epoch 2/50\n",
      "4/4 [==============================] - 0s 97ms/step - loss: 0.6326 - accuracy: 0.6814 - precision_3: 0.6814 - recall_3: 0.6814 - true_positives_3: 139.0000 - true_negatives_3: 139.0000 - false_positives_3: 65.0000 - false_negatives_3: 65.0000 - val_loss: 0.5766 - val_accuracy: 0.7206 - val_precision_3: 0.7206 - val_recall_3: 0.7206 - val_true_positives_3: 49.0000 - val_true_negatives_3: 49.0000 - val_false_positives_3: 19.0000 - val_false_negatives_3: 19.0000\n",
      "Epoch 3/50\n",
      "4/4 [==============================] - 0s 102ms/step - loss: 0.5832 - accuracy: 0.7353 - precision_3: 0.7353 - recall_3: 0.7353 - true_positives_3: 150.0000 - true_negatives_3: 150.0000 - false_positives_3: 54.0000 - false_negatives_3: 54.0000 - val_loss: 0.5231 - val_accuracy: 0.7206 - val_precision_3: 0.7206 - val_recall_3: 0.7206 - val_true_positives_3: 49.0000 - val_true_negatives_3: 49.0000 - val_false_positives_3: 19.0000 - val_false_negatives_3: 19.0000\n",
      "Epoch 4/50\n",
      "4/4 [==============================] - 0s 101ms/step - loss: 0.4983 - accuracy: 0.7304 - precision_3: 0.7304 - recall_3: 0.7304 - true_positives_3: 149.0000 - true_negatives_3: 149.0000 - false_positives_3: 55.0000 - false_negatives_3: 55.0000 - val_loss: 0.4180 - val_accuracy: 0.8971 - val_precision_3: 0.8971 - val_recall_3: 0.8971 - val_true_positives_3: 61.0000 - val_true_negatives_3: 61.0000 - val_false_positives_3: 7.0000 - val_false_negatives_3: 7.0000\n",
      "Epoch 5/50\n",
      "4/4 [==============================] - 0s 96ms/step - loss: 0.4080 - accuracy: 0.8578 - precision_3: 0.8578 - recall_3: 0.8578 - true_positives_3: 175.0000 - true_negatives_3: 175.0000 - false_positives_3: 29.0000 - false_negatives_3: 29.0000 - val_loss: 0.3957 - val_accuracy: 0.7941 - val_precision_3: 0.7941 - val_recall_3: 0.7941 - val_true_positives_3: 54.0000 - val_true_negatives_3: 54.0000 - val_false_positives_3: 14.0000 - val_false_negatives_3: 14.0000\n",
      "Epoch 6/50\n",
      "4/4 [==============================] - 0s 100ms/step - loss: 0.4196 - accuracy: 0.8088 - precision_3: 0.8088 - recall_3: 0.8088 - true_positives_3: 165.0000 - true_negatives_3: 165.0000 - false_positives_3: 39.0000 - false_negatives_3: 39.0000 - val_loss: 0.3430 - val_accuracy: 0.8529 - val_precision_3: 0.8529 - val_recall_3: 0.8529 - val_true_positives_3: 58.0000 - val_true_negatives_3: 58.0000 - val_false_positives_3: 10.0000 - val_false_negatives_3: 10.0000\n",
      "Epoch 7/50\n",
      "4/4 [==============================] - 0s 98ms/step - loss: 0.3493 - accuracy: 0.8627 - precision_3: 0.8627 - recall_3: 0.8627 - true_positives_3: 176.0000 - true_negatives_3: 176.0000 - false_positives_3: 28.0000 - false_negatives_3: 28.0000 - val_loss: 0.3938 - val_accuracy: 0.8235 - val_precision_3: 0.8235 - val_recall_3: 0.8235 - val_true_positives_3: 56.0000 - val_true_negatives_3: 56.0000 - val_false_positives_3: 12.0000 - val_false_negatives_3: 12.0000\n",
      "Epoch 8/50\n",
      "4/4 [==============================] - 0s 99ms/step - loss: 0.3714 - accuracy: 0.8333 - precision_3: 0.8333 - recall_3: 0.8333 - true_positives_3: 170.0000 - true_negatives_3: 170.0000 - false_positives_3: 34.0000 - false_negatives_3: 34.0000 - val_loss: 0.3944 - val_accuracy: 0.8676 - val_precision_3: 0.8676 - val_recall_3: 0.8676 - val_true_positives_3: 59.0000 - val_true_negatives_3: 59.0000 - val_false_positives_3: 9.0000 - val_false_negatives_3: 9.0000\n",
      "Epoch 9/50\n",
      "4/4 [==============================] - 0s 96ms/step - loss: 0.4428 - accuracy: 0.7843 - precision_3: 0.7843 - recall_3: 0.7843 - true_positives_3: 160.0000 - true_negatives_3: 160.0000 - false_positives_3: 44.0000 - false_negatives_3: 44.0000 - val_loss: 0.3373 - val_accuracy: 0.8529 - val_precision_3: 0.8529 - val_recall_3: 0.8529 - val_true_positives_3: 58.0000 - val_true_negatives_3: 58.0000 - val_false_positives_3: 10.0000 - val_false_negatives_3: 10.0000\n",
      "Epoch 10/50\n",
      "4/4 [==============================] - 0s 105ms/step - loss: 0.3838 - accuracy: 0.7941 - precision_3: 0.7941 - recall_3: 0.7941 - true_positives_3: 162.0000 - true_negatives_3: 162.0000 - false_positives_3: 42.0000 - false_negatives_3: 42.0000 - val_loss: 0.3952 - val_accuracy: 0.8088 - val_precision_3: 0.8088 - val_recall_3: 0.8088 - val_true_positives_3: 55.0000 - val_true_negatives_3: 55.0000 - val_false_positives_3: 13.0000 - val_false_negatives_3: 13.0000\n",
      "Epoch 11/50\n",
      "4/4 [==============================] - 0s 99ms/step - loss: 0.3572 - accuracy: 0.8480 - precision_3: 0.8480 - recall_3: 0.8480 - true_positives_3: 173.0000 - true_negatives_3: 173.0000 - false_positives_3: 31.0000 - false_negatives_3: 31.0000 - val_loss: 0.3642 - val_accuracy: 0.8676 - val_precision_3: 0.8676 - val_recall_3: 0.8676 - val_true_positives_3: 59.0000 - val_true_negatives_3: 59.0000 - val_false_positives_3: 9.0000 - val_false_negatives_3: 9.0000\n",
      "Epoch 12/50\n",
      "4/4 [==============================] - 0s 100ms/step - loss: 0.3882 - accuracy: 0.8627 - precision_3: 0.8627 - recall_3: 0.8627 - true_positives_3: 176.0000 - true_negatives_3: 176.0000 - false_positives_3: 28.0000 - false_negatives_3: 28.0000 - val_loss: 0.3178 - val_accuracy: 0.8824 - val_precision_3: 0.8824 - val_recall_3: 0.8824 - val_true_positives_3: 60.0000 - val_true_negatives_3: 60.0000 - val_false_positives_3: 8.0000 - val_false_negatives_3: 8.0000\n",
      "Epoch 13/50\n",
      "4/4 [==============================] - 0s 100ms/step - loss: 0.3202 - accuracy: 0.8529 - precision_3: 0.8529 - recall_3: 0.8529 - true_positives_3: 174.0000 - true_negatives_3: 174.0000 - false_positives_3: 30.0000 - false_negatives_3: 30.0000 - val_loss: 0.3338 - val_accuracy: 0.8529 - val_precision_3: 0.8529 - val_recall_3: 0.8529 - val_true_positives_3: 58.0000 - val_true_negatives_3: 58.0000 - val_false_positives_3: 10.0000 - val_false_negatives_3: 10.0000\n",
      "Epoch 14/50\n",
      "4/4 [==============================] - 0s 96ms/step - loss: 0.3170 - accuracy: 0.8627 - precision_3: 0.8627 - recall_3: 0.8627 - true_positives_3: 176.0000 - true_negatives_3: 176.0000 - false_positives_3: 28.0000 - false_negatives_3: 28.0000 - val_loss: 0.3026 - val_accuracy: 0.8676 - val_precision_3: 0.8676 - val_recall_3: 0.8676 - val_true_positives_3: 59.0000 - val_true_negatives_3: 59.0000 - val_false_positives_3: 9.0000 - val_false_negatives_3: 9.0000\n",
      "Epoch 15/50\n",
      "4/4 [==============================] - 0s 96ms/step - loss: 0.3192 - accuracy: 0.8627 - precision_3: 0.8627 - recall_3: 0.8627 - true_positives_3: 176.0000 - true_negatives_3: 176.0000 - false_positives_3: 28.0000 - false_negatives_3: 28.0000 - val_loss: 0.3194 - val_accuracy: 0.8971 - val_precision_3: 0.8971 - val_recall_3: 0.8971 - val_true_positives_3: 61.0000 - val_true_negatives_3: 61.0000 - val_false_positives_3: 7.0000 - val_false_negatives_3: 7.0000\n",
      "Epoch 16/50\n",
      "4/4 [==============================] - 0s 106ms/step - loss: 0.3030 - accuracy: 0.8725 - precision_3: 0.8725 - recall_3: 0.8725 - true_positives_3: 178.0000 - true_negatives_3: 178.0000 - false_positives_3: 26.0000 - false_negatives_3: 26.0000 - val_loss: 0.3036 - val_accuracy: 0.8529 - val_precision_3: 0.8529 - val_recall_3: 0.8529 - val_true_positives_3: 58.0000 - val_true_negatives_3: 58.0000 - val_false_positives_3: 10.0000 - val_false_negatives_3: 10.0000\n",
      "Epoch 17/50\n",
      "4/4 [==============================] - 0s 103ms/step - loss: 0.2921 - accuracy: 0.8676 - precision_3: 0.8676 - recall_3: 0.8676 - true_positives_3: 177.0000 - true_negatives_3: 177.0000 - false_positives_3: 27.0000 - false_negatives_3: 27.0000 - val_loss: 0.2901 - val_accuracy: 0.8824 - val_precision_3: 0.8824 - val_recall_3: 0.8824 - val_true_positives_3: 60.0000 - val_true_negatives_3: 60.0000 - val_false_positives_3: 8.0000 - val_false_negatives_3: 8.0000\n",
      "Epoch 18/50\n"
     ]
    },
    {
     "name": "stdout",
     "output_type": "stream",
     "text": [
      "4/4 [==============================] - 0s 102ms/step - loss: 0.2638 - accuracy: 0.8873 - precision_3: 0.8873 - recall_3: 0.8873 - true_positives_3: 181.0000 - true_negatives_3: 181.0000 - false_positives_3: 23.0000 - false_negatives_3: 23.0000 - val_loss: 0.3324 - val_accuracy: 0.8971 - val_precision_3: 0.8971 - val_recall_3: 0.8971 - val_true_positives_3: 61.0000 - val_true_negatives_3: 61.0000 - val_false_positives_3: 7.0000 - val_false_negatives_3: 7.0000\n",
      "Epoch 19/50\n",
      "4/4 [==============================] - 0s 101ms/step - loss: 0.3066 - accuracy: 0.8824 - precision_3: 0.8824 - recall_3: 0.8824 - true_positives_3: 180.0000 - true_negatives_3: 180.0000 - false_positives_3: 24.0000 - false_negatives_3: 24.0000 - val_loss: 0.2841 - val_accuracy: 0.8824 - val_precision_3: 0.8824 - val_recall_3: 0.8824 - val_true_positives_3: 60.0000 - val_true_negatives_3: 60.0000 - val_false_positives_3: 8.0000 - val_false_negatives_3: 8.0000\n",
      "Epoch 20/50\n",
      "4/4 [==============================] - 0s 101ms/step - loss: 0.2541 - accuracy: 0.8922 - precision_3: 0.8922 - recall_3: 0.8922 - true_positives_3: 182.0000 - true_negatives_3: 182.0000 - false_positives_3: 22.0000 - false_negatives_3: 22.0000 - val_loss: 0.2906 - val_accuracy: 0.8529 - val_precision_3: 0.8529 - val_recall_3: 0.8529 - val_true_positives_3: 58.0000 - val_true_negatives_3: 58.0000 - val_false_positives_3: 10.0000 - val_false_negatives_3: 10.0000\n",
      "Epoch 21/50\n",
      "4/4 [==============================] - 0s 99ms/step - loss: 0.2485 - accuracy: 0.8971 - precision_3: 0.8971 - recall_3: 0.8971 - true_positives_3: 183.0000 - true_negatives_3: 183.0000 - false_positives_3: 21.0000 - false_negatives_3: 21.0000 - val_loss: 0.2789 - val_accuracy: 0.8971 - val_precision_3: 0.8971 - val_recall_3: 0.8971 - val_true_positives_3: 61.0000 - val_true_negatives_3: 61.0000 - val_false_positives_3: 7.0000 - val_false_negatives_3: 7.0000\n",
      "Epoch 22/50\n",
      "4/4 [==============================] - 0s 98ms/step - loss: 0.2379 - accuracy: 0.9118 - precision_3: 0.9118 - recall_3: 0.9118 - true_positives_3: 186.0000 - true_negatives_3: 186.0000 - false_positives_3: 18.0000 - false_negatives_3: 18.0000 - val_loss: 0.2741 - val_accuracy: 0.8971 - val_precision_3: 0.8971 - val_recall_3: 0.8971 - val_true_positives_3: 61.0000 - val_true_negatives_3: 61.0000 - val_false_positives_3: 7.0000 - val_false_negatives_3: 7.0000\n",
      "Epoch 23/50\n",
      "4/4 [==============================] - 0s 93ms/step - loss: 0.2278 - accuracy: 0.9167 - precision_3: 0.9167 - recall_3: 0.9167 - true_positives_3: 187.0000 - true_negatives_3: 187.0000 - false_positives_3: 17.0000 - false_negatives_3: 17.0000 - val_loss: 0.2833 - val_accuracy: 0.8824 - val_precision_3: 0.8824 - val_recall_3: 0.8824 - val_true_positives_3: 60.0000 - val_true_negatives_3: 60.0000 - val_false_positives_3: 8.0000 - val_false_negatives_3: 8.0000\n",
      "Epoch 24/50\n",
      "4/4 [==============================] - 0s 100ms/step - loss: 0.2326 - accuracy: 0.9069 - precision_3: 0.9069 - recall_3: 0.9069 - true_positives_3: 185.0000 - true_negatives_3: 185.0000 - false_positives_3: 19.0000 - false_negatives_3: 19.0000 - val_loss: 0.2649 - val_accuracy: 0.9118 - val_precision_3: 0.9118 - val_recall_3: 0.9118 - val_true_positives_3: 62.0000 - val_true_negatives_3: 62.0000 - val_false_positives_3: 6.0000 - val_false_negatives_3: 6.0000\n",
      "Epoch 25/50\n",
      "4/4 [==============================] - 0s 94ms/step - loss: 0.2454 - accuracy: 0.9069 - precision_3: 0.9069 - recall_3: 0.9069 - true_positives_3: 185.0000 - true_negatives_3: 185.0000 - false_positives_3: 19.0000 - false_negatives_3: 19.0000 - val_loss: 0.2901 - val_accuracy: 0.8824 - val_precision_3: 0.8824 - val_recall_3: 0.8824 - val_true_positives_3: 60.0000 - val_true_negatives_3: 60.0000 - val_false_positives_3: 8.0000 - val_false_negatives_3: 8.0000\n",
      "Epoch 26/50\n",
      "4/4 [==============================] - 0s 95ms/step - loss: 0.2267 - accuracy: 0.8971 - precision_3: 0.8971 - recall_3: 0.8971 - true_positives_3: 183.0000 - true_negatives_3: 183.0000 - false_positives_3: 21.0000 - false_negatives_3: 21.0000 - val_loss: 0.2657 - val_accuracy: 0.8971 - val_precision_3: 0.8971 - val_recall_3: 0.8971 - val_true_positives_3: 61.0000 - val_true_negatives_3: 61.0000 - val_false_positives_3: 7.0000 - val_false_negatives_3: 7.0000\n",
      "Epoch 27/50\n",
      "4/4 [==============================] - 0s 100ms/step - loss: 0.1987 - accuracy: 0.9216 - precision_3: 0.9216 - recall_3: 0.9216 - true_positives_3: 188.0000 - true_negatives_3: 188.0000 - false_positives_3: 16.0000 - false_negatives_3: 16.0000 - val_loss: 0.2576 - val_accuracy: 0.9265 - val_precision_3: 0.9265 - val_recall_3: 0.9265 - val_true_positives_3: 63.0000 - val_true_negatives_3: 63.0000 - val_false_positives_3: 5.0000 - val_false_negatives_3: 5.0000\n",
      "Epoch 28/50\n",
      "4/4 [==============================] - 0s 100ms/step - loss: 0.1967 - accuracy: 0.9265 - precision_3: 0.9265 - recall_3: 0.9265 - true_positives_3: 189.0000 - true_negatives_3: 189.0000 - false_positives_3: 15.0000 - false_negatives_3: 15.0000 - val_loss: 0.2551 - val_accuracy: 0.9265 - val_precision_3: 0.9265 - val_recall_3: 0.9265 - val_true_positives_3: 63.0000 - val_true_negatives_3: 63.0000 - val_false_positives_3: 5.0000 - val_false_negatives_3: 5.0000\n",
      "Epoch 29/50\n",
      "4/4 [==============================] - 0s 99ms/step - loss: 0.1878 - accuracy: 0.9118 - precision_3: 0.9118 - recall_3: 0.9118 - true_positives_3: 186.0000 - true_negatives_3: 186.0000 - false_positives_3: 18.0000 - false_negatives_3: 18.0000 - val_loss: 0.2554 - val_accuracy: 0.8971 - val_precision_3: 0.8971 - val_recall_3: 0.8971 - val_true_positives_3: 61.0000 - val_true_negatives_3: 61.0000 - val_false_positives_3: 7.0000 - val_false_negatives_3: 7.0000\n",
      "Epoch 30/50\n",
      "4/4 [==============================] - 0s 95ms/step - loss: 0.1763 - accuracy: 0.9265 - precision_3: 0.9265 - recall_3: 0.9265 - true_positives_3: 189.0000 - true_negatives_3: 189.0000 - false_positives_3: 15.0000 - false_negatives_3: 15.0000 - val_loss: 0.2467 - val_accuracy: 0.9265 - val_precision_3: 0.9265 - val_recall_3: 0.9265 - val_true_positives_3: 63.0000 - val_true_negatives_3: 63.0000 - val_false_positives_3: 5.0000 - val_false_negatives_3: 5.0000\n",
      "Epoch 31/50\n",
      "4/4 [==============================] - 0s 100ms/step - loss: 0.1741 - accuracy: 0.9314 - precision_3: 0.9314 - recall_3: 0.9314 - true_positives_3: 190.0000 - true_negatives_3: 190.0000 - false_positives_3: 14.0000 - false_negatives_3: 14.0000 - val_loss: 0.2406 - val_accuracy: 0.9265 - val_precision_3: 0.9265 - val_recall_3: 0.9265 - val_true_positives_3: 63.0000 - val_true_negatives_3: 63.0000 - val_false_positives_3: 5.0000 - val_false_negatives_3: 5.0000\n",
      "Epoch 32/50\n",
      "4/4 [==============================] - 0s 100ms/step - loss: 0.1649 - accuracy: 0.9314 - precision_3: 0.9314 - recall_3: 0.9314 - true_positives_3: 190.0000 - true_negatives_3: 190.0000 - false_positives_3: 14.0000 - false_negatives_3: 14.0000 - val_loss: 0.2455 - val_accuracy: 0.8971 - val_precision_3: 0.8971 - val_recall_3: 0.8971 - val_true_positives_3: 61.0000 - val_true_negatives_3: 61.0000 - val_false_positives_3: 7.0000 - val_false_negatives_3: 7.0000\n",
      "Epoch 33/50\n",
      "4/4 [==============================] - 0s 100ms/step - loss: 0.1566 - accuracy: 0.9363 - precision_3: 0.9363 - recall_3: 0.9363 - true_positives_3: 191.0000 - true_negatives_3: 191.0000 - false_positives_3: 13.0000 - false_negatives_3: 13.0000 - val_loss: 0.2393 - val_accuracy: 0.8971 - val_precision_3: 0.8971 - val_recall_3: 0.8971 - val_true_positives_3: 61.0000 - val_true_negatives_3: 61.0000 - val_false_positives_3: 7.0000 - val_false_negatives_3: 7.0000\n",
      "Epoch 34/50\n",
      "4/4 [==============================] - 0s 100ms/step - loss: 0.1729 - accuracy: 0.9167 - precision_3: 0.9167 - recall_3: 0.9167 - true_positives_3: 187.0000 - true_negatives_3: 187.0000 - false_positives_3: 17.0000 - false_negatives_3: 17.0000 - val_loss: 0.2291 - val_accuracy: 0.9118 - val_precision_3: 0.9118 - val_recall_3: 0.9118 - val_true_positives_3: 62.0000 - val_true_negatives_3: 62.0000 - val_false_positives_3: 6.0000 - val_false_negatives_3: 6.0000\n",
      "Epoch 35/50\n"
     ]
    },
    {
     "name": "stdout",
     "output_type": "stream",
     "text": [
      "4/4 [==============================] - 0s 100ms/step - loss: 0.1590 - accuracy: 0.9363 - precision_3: 0.9363 - recall_3: 0.9363 - true_positives_3: 191.0000 - true_negatives_3: 191.0000 - false_positives_3: 13.0000 - false_negatives_3: 13.0000 - val_loss: 0.2312 - val_accuracy: 0.8971 - val_precision_3: 0.8971 - val_recall_3: 0.8971 - val_true_positives_3: 61.0000 - val_true_negatives_3: 61.0000 - val_false_positives_3: 7.0000 - val_false_negatives_3: 7.0000\n",
      "Epoch 36/50\n",
      "4/4 [==============================] - 0s 97ms/step - loss: 0.1291 - accuracy: 0.9608 - precision_3: 0.9608 - recall_3: 0.9608 - true_positives_3: 196.0000 - true_negatives_3: 196.0000 - false_positives_3: 8.0000 - false_negatives_3: 8.0000 - val_loss: 0.2552 - val_accuracy: 0.8971 - val_precision_3: 0.8971 - val_recall_3: 0.8971 - val_true_positives_3: 61.0000 - val_true_negatives_3: 61.0000 - val_false_positives_3: 7.0000 - val_false_negatives_3: 7.0000\n",
      "Epoch 37/50\n",
      "4/4 [==============================] - 0s 95ms/step - loss: 0.1727 - accuracy: 0.9265 - precision_3: 0.9265 - recall_3: 0.9265 - true_positives_3: 189.0000 - true_negatives_3: 189.0000 - false_positives_3: 15.0000 - false_negatives_3: 15.0000 - val_loss: 0.2120 - val_accuracy: 0.9265 - val_precision_3: 0.9265 - val_recall_3: 0.9265 - val_true_positives_3: 63.0000 - val_true_negatives_3: 63.0000 - val_false_positives_3: 5.0000 - val_false_negatives_3: 5.0000\n",
      "Epoch 38/50\n",
      "4/4 [==============================] - 0s 99ms/step - loss: 0.1352 - accuracy: 0.9706 - precision_3: 0.9706 - recall_3: 0.9706 - true_positives_3: 198.0000 - true_negatives_3: 198.0000 - false_positives_3: 6.0000 - false_negatives_3: 6.0000 - val_loss: 0.2193 - val_accuracy: 0.9265 - val_precision_3: 0.9265 - val_recall_3: 0.9265 - val_true_positives_3: 63.0000 - val_true_negatives_3: 63.0000 - val_false_positives_3: 5.0000 - val_false_negatives_3: 5.0000\n",
      "Epoch 39/50\n",
      "4/4 [==============================] - 0s 94ms/step - loss: 0.1238 - accuracy: 0.9608 - precision_3: 0.9608 - recall_3: 0.9608 - true_positives_3: 196.0000 - true_negatives_3: 196.0000 - false_positives_3: 8.0000 - false_negatives_3: 8.0000 - val_loss: 0.2083 - val_accuracy: 0.9265 - val_precision_3: 0.9265 - val_recall_3: 0.9265 - val_true_positives_3: 63.0000 - val_true_negatives_3: 63.0000 - val_false_positives_3: 5.0000 - val_false_negatives_3: 5.0000\n",
      "Epoch 40/50\n",
      "4/4 [==============================] - 0s 100ms/step - loss: 0.1207 - accuracy: 0.9559 - precision_3: 0.9559 - recall_3: 0.9559 - true_positives_3: 195.0000 - true_negatives_3: 195.0000 - false_positives_3: 9.0000 - false_negatives_3: 9.0000 - val_loss: 0.1989 - val_accuracy: 0.9265 - val_precision_3: 0.9265 - val_recall_3: 0.9265 - val_true_positives_3: 63.0000 - val_true_negatives_3: 63.0000 - val_false_positives_3: 5.0000 - val_false_negatives_3: 5.0000\n",
      "Epoch 41/50\n",
      "4/4 [==============================] - 0s 99ms/step - loss: 0.1206 - accuracy: 0.9608 - precision_3: 0.9608 - recall_3: 0.9608 - true_positives_3: 196.0000 - true_negatives_3: 196.0000 - false_positives_3: 8.0000 - false_negatives_3: 8.0000 - val_loss: 0.2020 - val_accuracy: 0.9265 - val_precision_3: 0.9265 - val_recall_3: 0.9265 - val_true_positives_3: 63.0000 - val_true_negatives_3: 63.0000 - val_false_positives_3: 5.0000 - val_false_negatives_3: 5.0000\n",
      "Epoch 42/50\n",
      "4/4 [==============================] - 0s 100ms/step - loss: 0.1144 - accuracy: 0.9510 - precision_3: 0.9510 - recall_3: 0.9510 - true_positives_3: 194.0000 - true_negatives_3: 194.0000 - false_positives_3: 10.0000 - false_negatives_3: 10.0000 - val_loss: 0.2214 - val_accuracy: 0.9118 - val_precision_3: 0.9118 - val_recall_3: 0.9118 - val_true_positives_3: 62.0000 - val_true_negatives_3: 62.0000 - val_false_positives_3: 6.0000 - val_false_negatives_3: 6.0000\n",
      "Epoch 43/50\n",
      "4/4 [==============================] - 0s 100ms/step - loss: 0.1110 - accuracy: 0.9608 - precision_3: 0.9608 - recall_3: 0.9608 - true_positives_3: 196.0000 - true_negatives_3: 196.0000 - false_positives_3: 8.0000 - false_negatives_3: 8.0000 - val_loss: 0.1884 - val_accuracy: 0.9412 - val_precision_3: 0.9412 - val_recall_3: 0.9412 - val_true_positives_3: 64.0000 - val_true_negatives_3: 64.0000 - val_false_positives_3: 4.0000 - val_false_negatives_3: 4.0000\n",
      "Epoch 44/50\n",
      "4/4 [==============================] - 0s 100ms/step - loss: 0.0987 - accuracy: 0.9804 - precision_3: 0.9804 - recall_3: 0.9804 - true_positives_3: 200.0000 - true_negatives_3: 200.0000 - false_positives_3: 4.0000 - false_negatives_3: 4.0000 - val_loss: 0.1867 - val_accuracy: 0.9559 - val_precision_3: 0.9559 - val_recall_3: 0.9559 - val_true_positives_3: 65.0000 - val_true_negatives_3: 65.0000 - val_false_positives_3: 3.0000 - val_false_negatives_3: 3.0000\n",
      "Epoch 45/50\n",
      "4/4 [==============================] - 0s 95ms/step - loss: 0.0899 - accuracy: 0.9755 - precision_3: 0.9755 - recall_3: 0.9755 - true_positives_3: 199.0000 - true_negatives_3: 199.0000 - false_positives_3: 5.0000 - false_negatives_3: 5.0000 - val_loss: 0.1792 - val_accuracy: 0.9412 - val_precision_3: 0.9412 - val_recall_3: 0.9412 - val_true_positives_3: 64.0000 - val_true_negatives_3: 64.0000 - val_false_positives_3: 4.0000 - val_false_negatives_3: 4.0000\n",
      "Epoch 46/50\n",
      "4/4 [==============================] - 0s 95ms/step - loss: 0.0812 - accuracy: 0.9853 - precision_3: 0.9853 - recall_3: 0.9853 - true_positives_3: 201.0000 - true_negatives_3: 201.0000 - false_positives_3: 3.0000 - false_negatives_3: 3.0000 - val_loss: 0.1775 - val_accuracy: 0.9559 - val_precision_3: 0.9559 - val_recall_3: 0.9559 - val_true_positives_3: 65.0000 - val_true_negatives_3: 65.0000 - val_false_positives_3: 3.0000 - val_false_negatives_3: 3.0000\n",
      "Epoch 47/50\n",
      "4/4 [==============================] - 0s 100ms/step - loss: 0.0784 - accuracy: 0.9853 - precision_3: 0.9853 - recall_3: 0.9853 - true_positives_3: 201.0000 - true_negatives_3: 201.0000 - false_positives_3: 3.0000 - false_negatives_3: 3.0000 - val_loss: 0.1758 - val_accuracy: 0.9412 - val_precision_3: 0.9412 - val_recall_3: 0.9412 - val_true_positives_3: 64.0000 - val_true_negatives_3: 64.0000 - val_false_positives_3: 4.0000 - val_false_negatives_3: 4.0000\n",
      "Epoch 48/50\n",
      "4/4 [==============================] - 0s 101ms/step - loss: 0.0741 - accuracy: 0.9853 - precision_3: 0.9853 - recall_3: 0.9853 - true_positives_3: 201.0000 - true_negatives_3: 201.0000 - false_positives_3: 3.0000 - false_negatives_3: 3.0000 - val_loss: 0.1769 - val_accuracy: 0.9412 - val_precision_3: 0.9412 - val_recall_3: 0.9412 - val_true_positives_3: 64.0000 - val_true_negatives_3: 64.0000 - val_false_positives_3: 4.0000 - val_false_negatives_3: 4.0000\n",
      "Epoch 49/50\n",
      "4/4 [==============================] - 0s 94ms/step - loss: 0.0710 - accuracy: 0.9853 - precision_3: 0.9853 - recall_3: 0.9853 - true_positives_3: 201.0000 - true_negatives_3: 201.0000 - false_positives_3: 3.0000 - false_negatives_3: 3.0000 - val_loss: 0.1692 - val_accuracy: 0.9559 - val_precision_3: 0.9559 - val_recall_3: 0.9559 - val_true_positives_3: 65.0000 - val_true_negatives_3: 65.0000 - val_false_positives_3: 3.0000 - val_false_negatives_3: 3.0000\n",
      "Epoch 50/50\n",
      "4/4 [==============================] - 0s 101ms/step - loss: 0.0640 - accuracy: 0.9853 - precision_3: 0.9853 - recall_3: 0.9853 - true_positives_3: 201.0000 - true_negatives_3: 201.0000 - false_positives_3: 3.0000 - false_negatives_3: 3.0000 - val_loss: 0.1672 - val_accuracy: 0.9412 - val_precision_3: 0.9412 - val_recall_3: 0.9412 - val_true_positives_3: 64.0000 - val_true_negatives_3: 64.0000 - val_false_positives_3: 4.0000 - val_false_negatives_3: 4.0000\n"
     ]
    }
   ],
   "source": [
    "history = model.fit(X_train, y_train, validation_data=(X_test,y_test), batch_size=64, epochs=50)"
   ]
  },
  {
   "cell_type": "code",
   "execution_count": 12,
   "id": "38251750",
   "metadata": {},
   "outputs": [
    {
     "name": "stdout",
     "output_type": "stream",
     "text": [
      "Model: \"res_net__like\"\n",
      "_________________________________________________________________\n",
      " Layer (type)                Output Shape              Param #   \n",
      "=================================================================\n",
      " res_block (ResBlock)        multiple                  29536     \n",
      "                                                                 \n",
      " res_block_1 (ResBlock)      multiple                  184640    \n",
      "                                                                 \n",
      " max_pooling2d_2 (MaxPooling  multiple                 0         \n",
      " 2D)                                                             \n",
      "                                                                 \n",
      " flatten (Flatten)           multiple                  0         \n",
      "                                                                 \n",
      " dense (Dense)               multiple                  1048704   \n",
      "                                                                 \n",
      " dense_1 (Dense)             multiple                  258       \n",
      "                                                                 \n",
      "=================================================================\n",
      "Total params: 1,263,138\n",
      "Trainable params: 1,263,138\n",
      "Non-trainable params: 0\n",
      "_________________________________________________________________\n"
     ]
    }
   ],
   "source": [
    "model.summary()"
   ]
  },
  {
   "cell_type": "code",
   "execution_count": 28,
   "id": "c2b2a4ee",
   "metadata": {},
   "outputs": [
    {
     "name": "stdout",
     "output_type": "stream",
     "text": [
      "2/2 - 0s - loss: 0.1672 - accuracy: 0.9412 - precision_3: 0.9412 - recall_3: 0.9412 - true_positives_3: 64.0000 - true_negatives_3: 64.0000 - false_positives_3: 4.0000 - false_negatives_3: 4.0000 - 294ms/epoch - 147ms/step\n"
     ]
    },
    {
     "data": {
      "text/plain": [
       "[0.16723524034023285,\n",
       " 0.9411764740943909,\n",
       " 0.9411764740943909,\n",
       " 0.9411764740943909,\n",
       " 64.0,\n",
       " 64.0,\n",
       " 4.0,\n",
       " 4.0]"
      ]
     },
     "execution_count": 28,
     "metadata": {},
     "output_type": "execute_result"
    }
   ],
   "source": [
    "model.evaluate(X_test, y_test, batch_size=64, verbose=2)"
   ]
  },
  {
   "cell_type": "code",
   "execution_count": null,
   "id": "20c5d9a2",
   "metadata": {},
   "outputs": [],
   "source": []
  },
  {
   "cell_type": "code",
   "execution_count": null,
   "id": "e46275c1",
   "metadata": {},
   "outputs": [],
   "source": []
  },
  {
   "cell_type": "code",
   "execution_count": 29,
   "id": "a8d27962",
   "metadata": {
    "scrolled": true
   },
   "outputs": [
    {
     "data": {
      "image/png": "[encoded data removed]",
      "text/plain": [
       "<Figure size 432x288 with 1 Axes>"
      ]
     },
     "metadata": {
      "needs_background": "light"
     },
     "output_type": "display_data"
    },
    {
     "data": {
      "image/png": "[encoded data removed]",
      "text/plain": [
       "<Figure size 432x288 with 1 Axes>"
      ]
     },
     "metadata": {
      "needs_background": "light"
     },
     "output_type": "display_data"
    }
   ],
   "source": [
    "# Utility function for plotting of the model results\n",
    "import matplotlib.pyplot as plt\n",
    "def visualize_results(history):\n",
    "    # Plot the accuracy and loss curves\n",
    "    acc = history.history['accuracy']\n",
    "    val_acc = history.history['val_accuracy']\n",
    "    loss = history.history['loss']\n",
    "    val_loss = history.history['val_loss']\n",
    "\n",
    "    epochs = range(len(acc))\n",
    "\n",
    "    plt.plot(epochs, acc, 'b', label='Training acc')\n",
    "    plt.plot(epochs, val_acc, 'r', label='Validation acc')\n",
    "    plt.title('Training and validation accuracy')\n",
    "    plt.legend()\n",
    "\n",
    "    plt.figure()\n",
    "\n",
    "    plt.plot(epochs, loss, 'b', label='Training loss')\n",
    "    plt.plot(epochs, val_loss, 'r', label='Validation loss')\n",
    "    plt.title('Training and validation loss')\n",
    "    plt.legend()\n",
    "\n",
    "    plt.show()\n",
    "\n",
    "\n",
    "# Run the function to illustrate accuracy and loss\n",
    "visualize_results(history)"
   ]
  },
  {
   "cell_type": "code",
   "execution_count": null,
   "id": "f49d6c50",
   "metadata": {},
   "outputs": [],
   "source": [
    "# tf.saved_model.save(model, 'model_rgb')\n",
    "# imported = tf.saved_model.load('model_rgb')"
   ]
  },
  {
   "cell_type": "markdown",
   "id": "5b955c47",
   "metadata": {},
   "source": [
    "#### Classification report"
   ]
  },
  {
   "cell_type": "code",
   "execution_count": 30,
   "id": "5d89a299",
   "metadata": {
    "scrolled": true
   },
   "outputs": [
    {
     "name": "stdout",
     "output_type": "stream",
     "text": [
      "              precision    recall  f1-score   support\n",
      "\n",
      "           0       0.91      0.97      0.94        32\n",
      "           1       0.97      0.92      0.94        36\n",
      "\n",
      "    accuracy                           0.94        68\n",
      "   macro avg       0.94      0.94      0.94        68\n",
      "weighted avg       0.94      0.94      0.94        68\n",
      "\n"
     ]
    }
   ],
   "source": [
    "from sklearn.metrics import classification_report\n",
    "import numpy as np\n",
    "\n",
    "Y_VAL = np.argmax(y_test, axis=1) # Convert one-hot to index\n",
    "y_pred = np.argmax(model.predict(X_test), axis=-1)\n",
    "print(classification_report(Y_VAL, y_pred))"
   ]
  },
  {
   "cell_type": "code",
   "execution_count": null,
   "id": "27c3e93a",
   "metadata": {},
   "outputs": [],
   "source": []
  },
  {
   "cell_type": "code",
   "execution_count": null,
   "id": "30524254",
   "metadata": {},
   "outputs": [],
   "source": []
  }
 ],
 "metadata": {
  "kernelspec": {
   "display_name": "Python 3.9 (tensorflow)",
   "language": "python",
   "name": "tensorflow"
  },
  "language_info": {
   "codemirror_mode": {
    "name": "ipython",
    "version": 3
   },
   "file_extension": ".py",
   "mimetype": "text/x-python",
   "name": "python",
   "nbconvert_exporter": "python",
   "pygments_lexer": "ipython3",
   "version": "3.9.7"
  }
 },
 "nbformat": 4,
 "nbformat_minor": 5
}
